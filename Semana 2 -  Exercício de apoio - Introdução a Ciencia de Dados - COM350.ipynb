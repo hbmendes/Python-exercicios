{
 "cells": [
  {
   "cell_type": "markdown",
   "metadata": {
    "id": "w-Ji360ZTTT-"
   },
   "source": [
    "## Disciplina - Introdução a Ciência de Dados - Univesp\n",
    "## Exercícios de Apoio da Semana 2"
   ]
  },
  {
   "cell_type": "markdown",
   "metadata": {
    "id": "L9cNpCDWTow1"
   },
   "source": [
    "### 1 - Carregue as bibliotecas NumPy e Pandas"
   ]
  },
  {
   "cell_type": "code",
   "execution_count": 76,
   "metadata": {},
   "outputs": [],
   "source": [
    "import numpy as np\n",
    "import pandas as pd"
   ]
  },
  {
   "cell_type": "markdown",
   "metadata": {
    "id": "ttQbbyLXUREo"
   },
   "source": [
    "### 2 - Crie um NDArray com os seguintes valores [1, 2.5, 7, -78, -0.9, 130, 25]"
   ]
  },
  {
   "cell_type": "code",
   "execution_count": 79,
   "metadata": {},
   "outputs": [
    {
     "data": {
      "text/plain": [
       "array([  1. ,   2.5,   7. , -78. ,  -0.9, 130. ,  25. ])"
      ]
     },
     "execution_count": 79,
     "metadata": {},
     "output_type": "execute_result"
    }
   ],
   "source": [
    "valores = [1, 2.5, 7, -78, -0.9, 130, 25]\n",
    "dadosArray = np.array(valores)\n",
    "dadosArray"
   ]
  },
  {
   "cell_type": "markdown",
   "metadata": {
    "id": "dj1u3l8shnCn"
   },
   "source": [
    "### 3 - Crie um NDArray com os valores de 0 a 10"
   ]
  },
  {
   "cell_type": "code",
   "execution_count": 82,
   "metadata": {},
   "outputs": [
    {
     "data": {
      "text/plain": [
       "array([ 0,  1,  2,  3,  4,  5,  6,  7,  8,  9, 10])"
      ]
     },
     "execution_count": 82,
     "metadata": {},
     "output_type": "execute_result"
    }
   ],
   "source": [
    "valores = np.arange(11)\n",
    "valores"
   ]
  },
  {
   "cell_type": "markdown",
   "metadata": {
    "id": "rnBk9UW1iMeL"
   },
   "source": [
    "### 4 – Crie um NDArray de dimensão 2x5 com valores 1"
   ]
  },
  {
   "cell_type": "code",
   "execution_count": 85,
   "metadata": {},
   "outputs": [
    {
     "data": {
      "text/plain": [
       "array([[1., 1., 1., 1., 1.],\n",
       "       [1., 1., 1., 1., 1.]])"
      ]
     },
     "execution_count": 85,
     "metadata": {},
     "output_type": "execute_result"
    }
   ],
   "source": [
    "valores = np.ones((2,5))\n",
    "valores"
   ]
  },
  {
   "cell_type": "markdown",
   "metadata": {
    "id": "86vJlvlwiyDb"
   },
   "source": [
    "### 5 – Crie um NDArray com valores de 1 a 100, com intervalos de 3 em 3."
   ]
  },
  {
   "cell_type": "code",
   "execution_count": 88,
   "metadata": {},
   "outputs": [
    {
     "data": {
      "text/plain": [
       "array([ 1,  4,  7, 10, 13, 16, 19, 22, 25, 28, 31, 34, 37, 40, 43, 46, 49,\n",
       "       52, 55, 58, 61, 64, 67, 70, 73, 76, 79, 82, 85, 88, 91, 94, 97])"
      ]
     },
     "execution_count": 88,
     "metadata": {},
     "output_type": "execute_result"
    }
   ],
   "source": [
    "valores = np.arange(1,100,3)\n",
    "valores"
   ]
  },
  {
   "cell_type": "markdown",
   "metadata": {
    "id": "n7i6JgxEkwwe"
   },
   "source": [
    "### 6 – Mostre as raízes quadradas dos valores do NDArray criado no exercícios 5."
   ]
  },
  {
   "cell_type": "code",
   "execution_count": 91,
   "metadata": {},
   "outputs": [
    {
     "data": {
      "text/plain": [
       "array([1.        , 2.        , 2.64575131, 3.16227766, 3.60555128,\n",
       "       4.        , 4.35889894, 4.69041576, 5.        , 5.29150262,\n",
       "       5.56776436, 5.83095189, 6.08276253, 6.32455532, 6.55743852,\n",
       "       6.78232998, 7.        , 7.21110255, 7.41619849, 7.61577311,\n",
       "       7.81024968, 8.        , 8.18535277, 8.36660027, 8.54400375,\n",
       "       8.71779789, 8.88819442, 9.05538514, 9.21954446, 9.38083152,\n",
       "       9.53939201, 9.69535971, 9.8488578 ])"
      ]
     },
     "execution_count": 91,
     "metadata": {},
     "output_type": "execute_result"
    }
   ],
   "source": [
    "raizes = np.sqrt(valores)\n",
    "raizes"
   ]
  },
  {
   "cell_type": "markdown",
   "metadata": {
    "id": "Vn0fSti8lwtD"
   },
   "source": [
    "### 7 – Altere a décima posição do NDArray criado no exercício 5 com o dobro do seu valor."
   ]
  },
  {
   "cell_type": "code",
   "execution_count": 94,
   "metadata": {},
   "outputs": [
    {
     "data": {
      "text/plain": [
       "array([ 1,  4,  7, 10, 13, 16, 19, 22, 25, 56, 31, 34, 37, 40, 43, 46, 49,\n",
       "       52, 55, 58, 61, 64, 67, 70, 73, 76, 79, 82, 85, 88, 91, 94, 97])"
      ]
     },
     "execution_count": 94,
     "metadata": {},
     "output_type": "execute_result"
    }
   ],
   "source": [
    "valores[9] = valores[9]*2\n",
    "valores"
   ]
  },
  {
   "cell_type": "markdown",
   "metadata": {
    "id": "QmK0DaAymcvL"
   },
   "source": [
    "### 8 – Execute o comando para criar um Dataframe com os dados disponíveis no notebook."
   ]
  },
  {
   "cell_type": "code",
   "execution_count": 29,
   "metadata": {
    "executionInfo": {
     "elapsed": 3,
     "status": "ok",
     "timestamp": 1632064328743,
     "user": {
      "displayName": "Jose Eduardo Santarem Segundo",
      "photoUrl": "https://lh3.googleusercontent.com/a-/AOh14GjLWfnjBdxVqYk-cgCgmPPwQImjjL3LNJ8YGfE=s64",
      "userId": "13621550804954747560"
     },
     "user_tz": 180
    },
    "id": "fgkSoH2sVKSb"
   },
   "outputs": [],
   "source": [
    "dados={'Empresa':['Microsoft', 'Google','Univesp','NVData Analytics','Power Bi Experience','USP'], 'Qtde Func':[1000, 1500,500, 100,100,499], 'Site':['https://www.microsoft.com/pt-br','https://www.google.com/','https://univesp.br/','https://www.nvdata.com.br/','https://powerbiexperience.com/pt/','https://www.usp.br/'],'Instagram':['@microsoft','@google','@univespoficial','@nv_data','@leokarpa','@usp.oficial'],'Criação':[1975,1998,2012,2019,2016,1934], 'País':['EUA','EUA','Brasil','Brasil','Brasil','Brasil']}"
   ]
  },
  {
   "cell_type": "code",
   "execution_count": 97,
   "metadata": {},
   "outputs": [
    {
     "data": {
      "text/html": [
       "<div>\n",
       "<style scoped>\n",
       "    .dataframe tbody tr th:only-of-type {\n",
       "        vertical-align: middle;\n",
       "    }\n",
       "\n",
       "    .dataframe tbody tr th {\n",
       "        vertical-align: top;\n",
       "    }\n",
       "\n",
       "    .dataframe thead th {\n",
       "        text-align: right;\n",
       "    }\n",
       "</style>\n",
       "<table border=\"1\" class=\"dataframe\">\n",
       "  <thead>\n",
       "    <tr style=\"text-align: right;\">\n",
       "      <th></th>\n",
       "      <th>Empresa</th>\n",
       "      <th>Qtde Func</th>\n",
       "      <th>Site</th>\n",
       "      <th>Instagram</th>\n",
       "      <th>Criação</th>\n",
       "      <th>País</th>\n",
       "    </tr>\n",
       "  </thead>\n",
       "  <tbody>\n",
       "    <tr>\n",
       "      <th>0</th>\n",
       "      <td>Microsoft</td>\n",
       "      <td>1000</td>\n",
       "      <td>https://www.microsoft.com/pt-br</td>\n",
       "      <td>@microsoft</td>\n",
       "      <td>1975</td>\n",
       "      <td>EUA</td>\n",
       "    </tr>\n",
       "    <tr>\n",
       "      <th>1</th>\n",
       "      <td>Google</td>\n",
       "      <td>1500</td>\n",
       "      <td>https://www.google.com/</td>\n",
       "      <td>@google</td>\n",
       "      <td>1998</td>\n",
       "      <td>EUA</td>\n",
       "    </tr>\n",
       "    <tr>\n",
       "      <th>2</th>\n",
       "      <td>Univesp</td>\n",
       "      <td>500</td>\n",
       "      <td>https://univesp.br/</td>\n",
       "      <td>@univespoficial</td>\n",
       "      <td>2012</td>\n",
       "      <td>Brasil</td>\n",
       "    </tr>\n",
       "    <tr>\n",
       "      <th>3</th>\n",
       "      <td>NVData Analytics</td>\n",
       "      <td>100</td>\n",
       "      <td>https://www.nvdata.com.br/</td>\n",
       "      <td>@nv_data</td>\n",
       "      <td>2019</td>\n",
       "      <td>Brasil</td>\n",
       "    </tr>\n",
       "    <tr>\n",
       "      <th>4</th>\n",
       "      <td>Power Bi Experience</td>\n",
       "      <td>100</td>\n",
       "      <td>https://powerbiexperience.com/pt/</td>\n",
       "      <td>@leokarpa</td>\n",
       "      <td>2016</td>\n",
       "      <td>Brasil</td>\n",
       "    </tr>\n",
       "    <tr>\n",
       "      <th>5</th>\n",
       "      <td>USP</td>\n",
       "      <td>499</td>\n",
       "      <td>https://www.usp.br/</td>\n",
       "      <td>@usp.oficial</td>\n",
       "      <td>1934</td>\n",
       "      <td>Brasil</td>\n",
       "    </tr>\n",
       "  </tbody>\n",
       "</table>\n",
       "</div>"
      ],
      "text/plain": [
       "               Empresa  Qtde Func                               Site  \\\n",
       "0            Microsoft       1000    https://www.microsoft.com/pt-br   \n",
       "1               Google       1500            https://www.google.com/   \n",
       "2              Univesp        500                https://univesp.br/   \n",
       "3     NVData Analytics        100         https://www.nvdata.com.br/   \n",
       "4  Power Bi Experience        100  https://powerbiexperience.com/pt/   \n",
       "5                  USP        499                https://www.usp.br/   \n",
       "\n",
       "         Instagram  Criação    País  \n",
       "0       @microsoft     1975     EUA  \n",
       "1          @google     1998     EUA  \n",
       "2  @univespoficial     2012  Brasil  \n",
       "3         @nv_data     2019  Brasil  \n",
       "4        @leokarpa     2016  Brasil  \n",
       "5     @usp.oficial     1934  Brasil  "
      ]
     },
     "execution_count": 97,
     "metadata": {},
     "output_type": "execute_result"
    }
   ],
   "source": [
    "df = pd.DataFrame(dados)\n",
    "df"
   ]
  },
  {
   "cell_type": "markdown",
   "metadata": {
    "id": "l0pydfDTnX-q"
   },
   "source": [
    "### 9 – Execute um comando que seja possível identificar qual a média da quantidade de funcionários que as empresas listadas tem. Informe também a soma dos funcionários que as empresas tem.\n"
   ]
  },
  {
   "cell_type": "code",
   "execution_count": 117,
   "metadata": {},
   "outputs": [
    {
     "name": "stdout",
     "output_type": "stream",
     "text": [
      "Media:  616.5\n",
      "Soma total:  3699\n"
     ]
    }
   ],
   "source": [
    "print(\"Media: \", df['Qtde Func'].sum()/df['Empresa'].count())\n",
    "print(\"Soma total: \", df['Qtde Func'].sum())"
   ]
  },
  {
   "cell_type": "markdown",
   "metadata": {
    "id": "lGCMCItHoUjo"
   },
   "source": [
    "### 10 – Mostre as primeiras 3 linhas do dataframe."
   ]
  },
  {
   "cell_type": "code",
   "execution_count": 119,
   "metadata": {},
   "outputs": [
    {
     "data": {
      "text/html": [
       "<div>\n",
       "<style scoped>\n",
       "    .dataframe tbody tr th:only-of-type {\n",
       "        vertical-align: middle;\n",
       "    }\n",
       "\n",
       "    .dataframe tbody tr th {\n",
       "        vertical-align: top;\n",
       "    }\n",
       "\n",
       "    .dataframe thead th {\n",
       "        text-align: right;\n",
       "    }\n",
       "</style>\n",
       "<table border=\"1\" class=\"dataframe\">\n",
       "  <thead>\n",
       "    <tr style=\"text-align: right;\">\n",
       "      <th></th>\n",
       "      <th>Empresa</th>\n",
       "      <th>Qtde Func</th>\n",
       "      <th>Site</th>\n",
       "      <th>Instagram</th>\n",
       "      <th>Criação</th>\n",
       "      <th>País</th>\n",
       "    </tr>\n",
       "  </thead>\n",
       "  <tbody>\n",
       "    <tr>\n",
       "      <th>0</th>\n",
       "      <td>Microsoft</td>\n",
       "      <td>1000</td>\n",
       "      <td>https://www.microsoft.com/pt-br</td>\n",
       "      <td>@microsoft</td>\n",
       "      <td>1975</td>\n",
       "      <td>EUA</td>\n",
       "    </tr>\n",
       "    <tr>\n",
       "      <th>1</th>\n",
       "      <td>Google</td>\n",
       "      <td>1500</td>\n",
       "      <td>https://www.google.com/</td>\n",
       "      <td>@google</td>\n",
       "      <td>1998</td>\n",
       "      <td>EUA</td>\n",
       "    </tr>\n",
       "    <tr>\n",
       "      <th>2</th>\n",
       "      <td>Univesp</td>\n",
       "      <td>500</td>\n",
       "      <td>https://univesp.br/</td>\n",
       "      <td>@univespoficial</td>\n",
       "      <td>2012</td>\n",
       "      <td>Brasil</td>\n",
       "    </tr>\n",
       "  </tbody>\n",
       "</table>\n",
       "</div>"
      ],
      "text/plain": [
       "     Empresa  Qtde Func                             Site        Instagram  \\\n",
       "0  Microsoft       1000  https://www.microsoft.com/pt-br       @microsoft   \n",
       "1     Google       1500          https://www.google.com/          @google   \n",
       "2    Univesp        500              https://univesp.br/  @univespoficial   \n",
       "\n",
       "   Criação    País  \n",
       "0     1975     EUA  \n",
       "1     1998     EUA  \n",
       "2     2012  Brasil  "
      ]
     },
     "execution_count": 119,
     "metadata": {},
     "output_type": "execute_result"
    }
   ],
   "source": [
    "df.head(3)"
   ]
  },
  {
   "cell_type": "markdown",
   "metadata": {
    "id": "sknVvBi9oY9k"
   },
   "source": [
    "### 11 – Mostre as últimas 3 linhas do dataframe."
   ]
  },
  {
   "cell_type": "code",
   "execution_count": 123,
   "metadata": {},
   "outputs": [
    {
     "data": {
      "text/html": [
       "<div>\n",
       "<style scoped>\n",
       "    .dataframe tbody tr th:only-of-type {\n",
       "        vertical-align: middle;\n",
       "    }\n",
       "\n",
       "    .dataframe tbody tr th {\n",
       "        vertical-align: top;\n",
       "    }\n",
       "\n",
       "    .dataframe thead th {\n",
       "        text-align: right;\n",
       "    }\n",
       "</style>\n",
       "<table border=\"1\" class=\"dataframe\">\n",
       "  <thead>\n",
       "    <tr style=\"text-align: right;\">\n",
       "      <th></th>\n",
       "      <th>Empresa</th>\n",
       "      <th>Qtde Func</th>\n",
       "      <th>Site</th>\n",
       "      <th>Instagram</th>\n",
       "      <th>Criação</th>\n",
       "      <th>País</th>\n",
       "    </tr>\n",
       "  </thead>\n",
       "  <tbody>\n",
       "    <tr>\n",
       "      <th>3</th>\n",
       "      <td>NVData Analytics</td>\n",
       "      <td>100</td>\n",
       "      <td>https://www.nvdata.com.br/</td>\n",
       "      <td>@nv_data</td>\n",
       "      <td>2019</td>\n",
       "      <td>Brasil</td>\n",
       "    </tr>\n",
       "    <tr>\n",
       "      <th>4</th>\n",
       "      <td>Power Bi Experience</td>\n",
       "      <td>100</td>\n",
       "      <td>https://powerbiexperience.com/pt/</td>\n",
       "      <td>@leokarpa</td>\n",
       "      <td>2016</td>\n",
       "      <td>Brasil</td>\n",
       "    </tr>\n",
       "    <tr>\n",
       "      <th>5</th>\n",
       "      <td>USP</td>\n",
       "      <td>499</td>\n",
       "      <td>https://www.usp.br/</td>\n",
       "      <td>@usp.oficial</td>\n",
       "      <td>1934</td>\n",
       "      <td>Brasil</td>\n",
       "    </tr>\n",
       "  </tbody>\n",
       "</table>\n",
       "</div>"
      ],
      "text/plain": [
       "               Empresa  Qtde Func                               Site  \\\n",
       "3     NVData Analytics        100         https://www.nvdata.com.br/   \n",
       "4  Power Bi Experience        100  https://powerbiexperience.com/pt/   \n",
       "5                  USP        499                https://www.usp.br/   \n",
       "\n",
       "      Instagram  Criação    País  \n",
       "3      @nv_data     2019  Brasil  \n",
       "4     @leokarpa     2016  Brasil  \n",
       "5  @usp.oficial     1934  Brasil  "
      ]
     },
     "execution_count": 123,
     "metadata": {},
     "output_type": "execute_result"
    }
   ],
   "source": [
    "df.tail(3)"
   ]
  },
  {
   "cell_type": "markdown",
   "metadata": {
    "id": "FyKZVn1uobKj"
   },
   "source": [
    "### 12 – Liste apenas as linhas em que as empresas foram criadas nos últimos 10 anos. Informe a quantidade de registros."
   ]
  },
  {
   "cell_type": "code",
   "execution_count": 125,
   "metadata": {},
   "outputs": [
    {
     "data": {
      "text/html": [
       "<div>\n",
       "<style scoped>\n",
       "    .dataframe tbody tr th:only-of-type {\n",
       "        vertical-align: middle;\n",
       "    }\n",
       "\n",
       "    .dataframe tbody tr th {\n",
       "        vertical-align: top;\n",
       "    }\n",
       "\n",
       "    .dataframe thead th {\n",
       "        text-align: right;\n",
       "    }\n",
       "</style>\n",
       "<table border=\"1\" class=\"dataframe\">\n",
       "  <thead>\n",
       "    <tr style=\"text-align: right;\">\n",
       "      <th></th>\n",
       "      <th>Empresa</th>\n",
       "      <th>Qtde Func</th>\n",
       "      <th>Site</th>\n",
       "      <th>Instagram</th>\n",
       "      <th>Criação</th>\n",
       "      <th>País</th>\n",
       "    </tr>\n",
       "  </thead>\n",
       "  <tbody>\n",
       "    <tr>\n",
       "      <th>3</th>\n",
       "      <td>NVData Analytics</td>\n",
       "      <td>100</td>\n",
       "      <td>https://www.nvdata.com.br/</td>\n",
       "      <td>@nv_data</td>\n",
       "      <td>2019</td>\n",
       "      <td>Brasil</td>\n",
       "    </tr>\n",
       "    <tr>\n",
       "      <th>4</th>\n",
       "      <td>Power Bi Experience</td>\n",
       "      <td>100</td>\n",
       "      <td>https://powerbiexperience.com/pt/</td>\n",
       "      <td>@leokarpa</td>\n",
       "      <td>2016</td>\n",
       "      <td>Brasil</td>\n",
       "    </tr>\n",
       "  </tbody>\n",
       "</table>\n",
       "</div>"
      ],
      "text/plain": [
       "               Empresa  Qtde Func                               Site  \\\n",
       "3     NVData Analytics        100         https://www.nvdata.com.br/   \n",
       "4  Power Bi Experience        100  https://powerbiexperience.com/pt/   \n",
       "\n",
       "   Instagram  Criação    País  \n",
       "3   @nv_data     2019  Brasil  \n",
       "4  @leokarpa     2016  Brasil  "
      ]
     },
     "execution_count": 125,
     "metadata": {},
     "output_type": "execute_result"
    }
   ],
   "source": [
    "df[df['Criação']>=2014]"
   ]
  },
  {
   "cell_type": "markdown",
   "metadata": {
    "id": "noPYQPpXohZ8"
   },
   "source": [
    "### 13 – Vamos imaginar que em todas as empresas exista 1 chefe para cada 23 funcionários. Crie uma coluna que mostre a quantidade de chefes que cada empresa teria e depois informe quantos chefes teríamos ao todo. (os valores não precisam ser números inteiros, é apenas uma estimativa).\n"
   ]
  },
  {
   "cell_type": "code",
   "execution_count": 127,
   "metadata": {},
   "outputs": [
    {
     "data": {
      "text/html": [
       "<div>\n",
       "<style scoped>\n",
       "    .dataframe tbody tr th:only-of-type {\n",
       "        vertical-align: middle;\n",
       "    }\n",
       "\n",
       "    .dataframe tbody tr th {\n",
       "        vertical-align: top;\n",
       "    }\n",
       "\n",
       "    .dataframe thead th {\n",
       "        text-align: right;\n",
       "    }\n",
       "</style>\n",
       "<table border=\"1\" class=\"dataframe\">\n",
       "  <thead>\n",
       "    <tr style=\"text-align: right;\">\n",
       "      <th></th>\n",
       "      <th>Empresa</th>\n",
       "      <th>Qtde Func</th>\n",
       "      <th>Site</th>\n",
       "      <th>Instagram</th>\n",
       "      <th>Criação</th>\n",
       "      <th>País</th>\n",
       "      <th>Chefes</th>\n",
       "    </tr>\n",
       "  </thead>\n",
       "  <tbody>\n",
       "    <tr>\n",
       "      <th>0</th>\n",
       "      <td>Microsoft</td>\n",
       "      <td>1000</td>\n",
       "      <td>https://www.microsoft.com/pt-br</td>\n",
       "      <td>@microsoft</td>\n",
       "      <td>1975</td>\n",
       "      <td>EUA</td>\n",
       "      <td>43.478261</td>\n",
       "    </tr>\n",
       "    <tr>\n",
       "      <th>1</th>\n",
       "      <td>Google</td>\n",
       "      <td>1500</td>\n",
       "      <td>https://www.google.com/</td>\n",
       "      <td>@google</td>\n",
       "      <td>1998</td>\n",
       "      <td>EUA</td>\n",
       "      <td>65.217391</td>\n",
       "    </tr>\n",
       "    <tr>\n",
       "      <th>2</th>\n",
       "      <td>Univesp</td>\n",
       "      <td>500</td>\n",
       "      <td>https://univesp.br/</td>\n",
       "      <td>@univespoficial</td>\n",
       "      <td>2012</td>\n",
       "      <td>Brasil</td>\n",
       "      <td>21.739130</td>\n",
       "    </tr>\n",
       "    <tr>\n",
       "      <th>3</th>\n",
       "      <td>NVData Analytics</td>\n",
       "      <td>100</td>\n",
       "      <td>https://www.nvdata.com.br/</td>\n",
       "      <td>@nv_data</td>\n",
       "      <td>2019</td>\n",
       "      <td>Brasil</td>\n",
       "      <td>4.347826</td>\n",
       "    </tr>\n",
       "    <tr>\n",
       "      <th>4</th>\n",
       "      <td>Power Bi Experience</td>\n",
       "      <td>100</td>\n",
       "      <td>https://powerbiexperience.com/pt/</td>\n",
       "      <td>@leokarpa</td>\n",
       "      <td>2016</td>\n",
       "      <td>Brasil</td>\n",
       "      <td>4.347826</td>\n",
       "    </tr>\n",
       "    <tr>\n",
       "      <th>5</th>\n",
       "      <td>USP</td>\n",
       "      <td>499</td>\n",
       "      <td>https://www.usp.br/</td>\n",
       "      <td>@usp.oficial</td>\n",
       "      <td>1934</td>\n",
       "      <td>Brasil</td>\n",
       "      <td>21.695652</td>\n",
       "    </tr>\n",
       "  </tbody>\n",
       "</table>\n",
       "</div>"
      ],
      "text/plain": [
       "               Empresa  Qtde Func                               Site  \\\n",
       "0            Microsoft       1000    https://www.microsoft.com/pt-br   \n",
       "1               Google       1500            https://www.google.com/   \n",
       "2              Univesp        500                https://univesp.br/   \n",
       "3     NVData Analytics        100         https://www.nvdata.com.br/   \n",
       "4  Power Bi Experience        100  https://powerbiexperience.com/pt/   \n",
       "5                  USP        499                https://www.usp.br/   \n",
       "\n",
       "         Instagram  Criação    País     Chefes  \n",
       "0       @microsoft     1975     EUA  43.478261  \n",
       "1          @google     1998     EUA  65.217391  \n",
       "2  @univespoficial     2012  Brasil  21.739130  \n",
       "3         @nv_data     2019  Brasil   4.347826  \n",
       "4        @leokarpa     2016  Brasil   4.347826  \n",
       "5     @usp.oficial     1934  Brasil  21.695652  "
      ]
     },
     "execution_count": 127,
     "metadata": {},
     "output_type": "execute_result"
    }
   ],
   "source": [
    "df['Chefes']=df['Qtde Func']/23\n",
    "df"
   ]
  },
  {
   "cell_type": "code",
   "execution_count": 129,
   "metadata": {},
   "outputs": [
    {
     "data": {
      "text/plain": [
       "160.82608695652175"
      ]
     },
     "execution_count": 129,
     "metadata": {},
     "output_type": "execute_result"
    }
   ],
   "source": [
    "df['Chefes'].sum()"
   ]
  },
  {
   "cell_type": "code",
   "execution_count": null,
   "metadata": {},
   "outputs": [],
   "source": []
  }
 ],
 "metadata": {
  "colab": {
   "authorship_tag": "ABX9TyOfEHohdMXlNiZg+dMpev7X",
   "name": "COM350_Univesp_ExerciciosApoioSemana2.ipynb",
   "provenance": []
  },
  "kernelspec": {
   "display_name": "Python 3 (ipykernel)",
   "language": "python",
   "name": "python3"
  },
  "language_info": {
   "codemirror_mode": {
    "name": "ipython",
    "version": 3
   },
   "file_extension": ".py",
   "mimetype": "text/x-python",
   "name": "python",
   "nbconvert_exporter": "python",
   "pygments_lexer": "ipython3",
   "version": "3.12.7"
  }
 },
 "nbformat": 4,
 "nbformat_minor": 4
}
